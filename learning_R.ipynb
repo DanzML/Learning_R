{
  "nbformat": 4,
  "nbformat_minor": 0,
  "metadata": {
    "colab": {
      "provenance": [],
      "authorship_tag": "ABX9TyMfXFLlMPAIKFeqXcTSku/l",
      "include_colab_link": true
    },
    "kernelspec": {
      "name": "ir",
      "display_name": "R"
    },
    "language_info": {
      "name": "R"
    }
  },
  "cells": [
    {
      "cell_type": "markdown",
      "metadata": {
        "id": "view-in-github",
        "colab_type": "text"
      },
      "source": [
        "<a href=\"https://colab.research.google.com/github/DaniCod3s/Learning_R/blob/main/learning_R.ipynb\" target=\"_parent\"><img src=\"https://colab.research.google.com/assets/colab-badge.svg\" alt=\"Open In Colab\"/></a>"
      ]
    },
    {
      "cell_type": "code",
      "execution_count": null,
      "metadata": {
        "colab": {
          "base_uri": "https://localhost:8080/"
        },
        "id": "B5kr6gaakNh2",
        "outputId": "c8f54734-51b9-4cc9-d3c0-1803d71db4bc"
      },
      "outputs": [
        {
          "output_type": "stream",
          "name": "stderr",
          "text": [
            "── \u001b[1mAttaching core tidyverse packages\u001b[22m ──────────────────────── tidyverse 2.0.0 ──\n",
            "\u001b[32m✔\u001b[39m \u001b[34mdplyr    \u001b[39m 1.1.2     \u001b[32m✔\u001b[39m \u001b[34mreadr    \u001b[39m 2.1.4\n",
            "\u001b[32m✔\u001b[39m \u001b[34mforcats  \u001b[39m 1.0.0     \u001b[32m✔\u001b[39m \u001b[34mstringr  \u001b[39m 1.5.0\n",
            "\u001b[32m✔\u001b[39m \u001b[34mggplot2  \u001b[39m 3.4.2     \u001b[32m✔\u001b[39m \u001b[34mtibble   \u001b[39m 3.2.1\n",
            "\u001b[32m✔\u001b[39m \u001b[34mlubridate\u001b[39m 1.9.2     \u001b[32m✔\u001b[39m \u001b[34mtidyr    \u001b[39m 1.3.0\n",
            "\u001b[32m✔\u001b[39m \u001b[34mpurrr    \u001b[39m 1.0.1     \n",
            "── \u001b[1mConflicts\u001b[22m ────────────────────────────────────────── tidyverse_conflicts() ──\n",
            "\u001b[31m✖\u001b[39m \u001b[34mdplyr\u001b[39m::\u001b[32mfilter()\u001b[39m masks \u001b[34mstats\u001b[39m::filter()\n",
            "\u001b[31m✖\u001b[39m \u001b[34mdplyr\u001b[39m::\u001b[32mlag()\u001b[39m    masks \u001b[34mstats\u001b[39m::lag()\n",
            "\u001b[36mℹ\u001b[39m Use the conflicted package (\u001b[3m\u001b[34m<http://conflicted.r-lib.org/>\u001b[39m\u001b[23m) to force all conflicts to become errors\n"
          ]
        }
      ],
      "source": [
        "library(tidyverse)"
      ]
    },
    {
      "cell_type": "code",
      "source": [
        "# Data Frame = A collection  of Columns\n",
        "# Rules : 1) Same no of  of data items in each columns 2) columns should be named\n",
        "names <- c(\"john\", \"carry\", \"Leah\", \"Jenna\")\n",
        "age <- c(24,51,20,19)\n",
        "people <-data.frame(names,age)\n",
        "head(people)\n",
        "#str(people)"
      ],
      "metadata": {
        "id": "PfW5t8nRmN22",
        "outputId": "54364dea-5c06-4e17-ac6a-deba723328ba",
        "colab": {
          "base_uri": "https://localhost:8080/",
          "height": 224
        }
      },
      "execution_count": 8,
      "outputs": [
        {
          "output_type": "display_data",
          "data": {
            "text/html": [
              "<table class=\"dataframe\">\n",
              "<caption>A data.frame: 4 × 2</caption>\n",
              "<thead>\n",
              "\t<tr><th></th><th scope=col>names</th><th scope=col>age</th></tr>\n",
              "\t<tr><th></th><th scope=col>&lt;chr&gt;</th><th scope=col>&lt;dbl&gt;</th></tr>\n",
              "</thead>\n",
              "<tbody>\n",
              "\t<tr><th scope=row>1</th><td>john </td><td>24</td></tr>\n",
              "\t<tr><th scope=row>2</th><td>carry</td><td>51</td></tr>\n",
              "\t<tr><th scope=row>3</th><td>Leah </td><td>20</td></tr>\n",
              "\t<tr><th scope=row>4</th><td>Jenna</td><td>19</td></tr>\n",
              "</tbody>\n",
              "</table>\n"
            ],
            "text/markdown": "\nA data.frame: 4 × 2\n\n| <!--/--> | names &lt;chr&gt; | age &lt;dbl&gt; |\n|---|---|---|\n| 1 | john  | 24 |\n| 2 | carry | 51 |\n| 3 | Leah  | 20 |\n| 4 | Jenna | 19 |\n\n",
            "text/latex": "A data.frame: 4 × 2\n\\begin{tabular}{r|ll}\n  & names & age\\\\\n  & <chr> & <dbl>\\\\\n\\hline\n\t1 & john  & 24\\\\\n\t2 & carry & 51\\\\\n\t3 & Leah  & 20\\\\\n\t4 & Jenna & 19\\\\\n\\end{tabular}\n",
            "text/plain": [
              "  names age\n",
              "1 john  24 \n",
              "2 carry 51 \n",
              "3 Leah  20 \n",
              "4 Jenna 19 "
            ]
          },
          "metadata": {}
        }
      ]
    },
    {
      "cell_type": "code",
      "source": [
        "# Tibbls\n",
        "#Never Change the Data types of the inputs\n",
        "#Never Change the names of your variables\n",
        "# Never create Row names\n",
        "\n",
        "#Tidy data standards\n",
        "# Variales are organized into columns\n",
        "# Observations are organzied into rows\n",
        "# Each value must have its own cell\n"
      ],
      "metadata": {
        "id": "Wl862VqQpizf"
      },
      "execution_count": 9,
      "outputs": []
    },
    {
      "cell_type": "code",
      "source": [],
      "metadata": {
        "id": "GgZ1hKw8qblC"
      },
      "execution_count": null,
      "outputs": []
    }
  ]
}
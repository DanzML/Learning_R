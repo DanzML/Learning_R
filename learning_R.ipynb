{
  "nbformat": 4,
  "nbformat_minor": 0,
  "metadata": {
    "colab": {
      "provenance": [],
      "authorship_tag": "ABX9TyPu8T964TQu5ZdjZlL9eVJu",
      "include_colab_link": true
    },
    "kernelspec": {
      "name": "ir",
      "display_name": "R"
    },
    "language_info": {
      "name": "R"
    }
  },
  "cells": [
    {
      "cell_type": "markdown",
      "metadata": {
        "id": "view-in-github",
        "colab_type": "text"
      },
      "source": [
        "<a href=\"https://colab.research.google.com/github/DaniCod3s/Learning_R/blob/main/learning_R.ipynb\" target=\"_parent\"><img src=\"https://colab.research.google.com/assets/colab-badge.svg\" alt=\"Open In Colab\"/></a>"
      ]
    },
    {
      "cell_type": "code",
      "execution_count": null,
      "metadata": {
        "colab": {
          "base_uri": "https://localhost:8080/"
        },
        "id": "B5kr6gaakNh2",
        "outputId": "2d56b725-ca41-4198-b829-f74a215962b3"
      },
      "outputs": [
        {
          "output_type": "stream",
          "name": "stderr",
          "text": [
            "── \u001b[1mAttaching core tidyverse packages\u001b[22m ──────────────────────── tidyverse 2.0.0 ──\n",
            "\u001b[32m✔\u001b[39m \u001b[34mdplyr    \u001b[39m 1.1.2     \u001b[32m✔\u001b[39m \u001b[34mreadr    \u001b[39m 2.1.4\n",
            "\u001b[32m✔\u001b[39m \u001b[34mforcats  \u001b[39m 1.0.0     \u001b[32m✔\u001b[39m \u001b[34mstringr  \u001b[39m 1.5.0\n",
            "\u001b[32m✔\u001b[39m \u001b[34mggplot2  \u001b[39m 3.4.2     \u001b[32m✔\u001b[39m \u001b[34mtibble   \u001b[39m 3.2.1\n",
            "\u001b[32m✔\u001b[39m \u001b[34mlubridate\u001b[39m 1.9.2     \u001b[32m✔\u001b[39m \u001b[34mtidyr    \u001b[39m 1.3.0\n",
            "\u001b[32m✔\u001b[39m \u001b[34mpurrr    \u001b[39m 1.0.1     \n",
            "── \u001b[1mConflicts\u001b[22m ────────────────────────────────────────── tidyverse_conflicts() ──\n",
            "\u001b[31m✖\u001b[39m \u001b[34mdplyr\u001b[39m::\u001b[32mfilter()\u001b[39m masks \u001b[34mstats\u001b[39m::filter()\n",
            "\u001b[31m✖\u001b[39m \u001b[34mdplyr\u001b[39m::\u001b[32mlag()\u001b[39m    masks \u001b[34mstats\u001b[39m::lag()\n",
            "\u001b[36mℹ\u001b[39m Use the conflicted package (\u001b[3m\u001b[34m<http://conflicted.r-lib.org/>\u001b[39m\u001b[23m) to force all conflicts to become errors\n"
          ]
        }
      ],
      "source": [
        "library(tidyverse)"
      ]
    },
    {
      "cell_type": "code",
      "source": [
        "# Data Frame = A collection  of Columns\n",
        "# Rules : 1) Same no of  of data items in each columns 2) columns should be named\n",
        "names <- c(\"john\", \"carry\", \"Leah\", \"Jenna\")\n",
        "age <- c(24,51,20,19)\n",
        "people <-data.frame(names,age)\n",
        "head(people)\n",
        "#str(people)"
      ],
      "metadata": {
        "id": "PfW5t8nRmN22",
        "outputId": "54364dea-5c06-4e17-ac6a-deba723328ba",
        "colab": {
          "base_uri": "https://localhost:8080/",
          "height": 224
        }
      },
      "execution_count": null,
      "outputs": [
        {
          "output_type": "display_data",
          "data": {
            "text/html": [
              "<table class=\"dataframe\">\n",
              "<caption>A data.frame: 4 × 2</caption>\n",
              "<thead>\n",
              "\t<tr><th></th><th scope=col>names</th><th scope=col>age</th></tr>\n",
              "\t<tr><th></th><th scope=col>&lt;chr&gt;</th><th scope=col>&lt;dbl&gt;</th></tr>\n",
              "</thead>\n",
              "<tbody>\n",
              "\t<tr><th scope=row>1</th><td>john </td><td>24</td></tr>\n",
              "\t<tr><th scope=row>2</th><td>carry</td><td>51</td></tr>\n",
              "\t<tr><th scope=row>3</th><td>Leah </td><td>20</td></tr>\n",
              "\t<tr><th scope=row>4</th><td>Jenna</td><td>19</td></tr>\n",
              "</tbody>\n",
              "</table>\n"
            ],
            "text/markdown": "\nA data.frame: 4 × 2\n\n| <!--/--> | names &lt;chr&gt; | age &lt;dbl&gt; |\n|---|---|---|\n| 1 | john  | 24 |\n| 2 | carry | 51 |\n| 3 | Leah  | 20 |\n| 4 | Jenna | 19 |\n\n",
            "text/latex": "A data.frame: 4 × 2\n\\begin{tabular}{r|ll}\n  & names & age\\\\\n  & <chr> & <dbl>\\\\\n\\hline\n\t1 & john  & 24\\\\\n\t2 & carry & 51\\\\\n\t3 & Leah  & 20\\\\\n\t4 & Jenna & 19\\\\\n\\end{tabular}\n",
            "text/plain": [
              "  names age\n",
              "1 john  24 \n",
              "2 carry 51 \n",
              "3 Leah  20 \n",
              "4 Jenna 19 "
            ]
          },
          "metadata": {}
        }
      ]
    },
    {
      "cell_type": "code",
      "source": [
        "# Tibbls\n",
        "#Never Change the Data types of the inputs\n",
        "#Never Change the names of your variables\n",
        "# Never create Row names\n",
        "\n",
        "#Tidy data standards\n",
        "# Variales are organized into columns\n",
        "# Observations are organzied into rows\n",
        "# Each value must have its own cell\n"
      ],
      "metadata": {
        "id": "Wl862VqQpizf"
      },
      "execution_count": null,
      "outputs": []
    },
    {
      "cell_type": "code",
      "source": [
        "data(diamonds)\n",
        "#View(diamonds)\n",
        "as_tibble(diamonds)"
      ],
      "metadata": {
        "id": "GgZ1hKw8qblC"
      },
      "execution_count": null,
      "outputs": []
    },
    {
      "cell_type": "code",
      "source": [
        "# libraries for cleaning\n",
        "# skimr - designed to provide summary statistics about variables in data frames, tibbles, data tables and vectors.\n",
        "# janitor - Simple Tools for Examining and Cleaning Dirty Data\n",
        "# here - enables easy file referencing by using the top-level directory of a file project to easily build file paths\n",
        "\n",
        "penguins %>%\n",
        "  select(-species)\n",
        "\n",
        "penguins %>%\n",
        "  rename(island_new = island)\n",
        "\n",
        "rename_with(penguins, toupper)\n",
        "\n",
        "clean_names(penguins)"
      ],
      "metadata": {
        "id": "odvpp7Xn6339"
      },
      "execution_count": null,
      "outputs": []
    },
    {
      "cell_type": "code",
      "source": [
        "# penguins  %>% filter(species == \"Adelie\")\n",
        "# penguins %>% group_by(species, island) %>% drop_na() %>% summarize(mean_bill_length_mm = mean(bill_length_mm), max_bl = max(bill_length_mm))\n",
        "\n",
        "#Organizational functions help you sort, filter, and summarize your data.\n",
        "#Cleaning functions help you preview and rename data so that it’s easier to work with\n",
        "#Transformational functions help you separate and combine data, as well as create new variables"
      ],
      "metadata": {
        "id": "tqPDma80EW0s"
      },
      "execution_count": null,
      "outputs": []
    },
    {
      "cell_type": "code",
      "source": [
        "id = c(1:10)\n",
        "name <- c(\"John Mendes\", \"Rob Stewart\", \"Rachel Abrahamson\", \"Christy Hickman\", \"Johnson Harper\", \"Candace Miller\", \"Carlson Landy\", \"Pansy Jordan\", \"Darius Berry\", \"Claudia Garcia\")\n",
        "\n",
        "job_title <- c(\"Professional\", \"Programmer\", \"Management\", \"Clerical\", \"Developer\", \"Programmer\", \"Management\", \"Clerical\", \"Developer\", \"Programmer\")\n",
        "\n",
        "print(employee)\n",
        "separate( employee, name, into=c('First_name','Last_name'), sep=' ')\n",
        "\n",
        "first_name <- c(\"John\", \"Rob\", \"Rachel\", \"Christy\", \"Johnson\", \"Candace\", \"Carlson\", \"Pansy\", \"Darius\", \"Claudia\")\n",
        "last_name <- c(\"Mendes\", \"Stewart\", \"Abrahamson\", \"Hickman\", \"Harper\", \"Miller\", \"Landy\", \"Jordan\", \"Berry\", \"Garcia\")\n",
        "employee = data.frame(id, name, job_title)\n",
        "unite(employee, 'name', first_name, fast_name, sep = \" \")\n",
        "\n",
        "View(penguins)\n",
        "\n",
        "penguins %>%\n",
        "  mutate(body_mass_kg = body_mass_g/1000, flipper_length_m = flipper_length_mm/1000)\n"
      ],
      "metadata": {
        "colab": {
          "base_uri": "https://localhost:8080/",
          "height": 140
        },
        "id": "GhWWyqnQLMx5",
        "outputId": "4cfcd6b1-2453-477d-83b2-6e4c9d1103c2"
      },
      "execution_count": 6,
      "outputs": [
        {
          "output_type": "error",
          "ename": "ERROR",
          "evalue": "ignored",
          "traceback": [
            "Error in eval(expr, envir, enclos): object 'employee' not found\nTraceback:\n",
            "1. print(employee)"
          ]
        }
      ]
    },
    {
      "cell_type": "code",
      "source": [
        "install.packages('Tmisc')\n",
        "library(Tmisc)\n",
        "data(quartet)\n",
        "View(quartet)\n",
        "quartet %>%\n",
        "  group_by(set) %>%\n",
        "   summarize(mean(x), sd(x), mean(y), sd(y), cor(x,y))\n",
        "\n",
        "ggplot(quartet, aes(x, y)) + geom_point() + geom_smooth(method = lm, se = FALSE) + facet_wrap(~set)\n",
        "\n",
        "install.packages('datasauRus')\n",
        "library('datasauRus')\n",
        "\n",
        "ggplot(datasaurus_dozen,aes(x=x,y=y,colour=dataset))+geom_point()+theme_void()+theme(legend.position = \"none\")+facet_wrap(~dataset,ncol=3)\n"
      ],
      "metadata": {
        "id": "lhUYXxpeRdag"
      },
      "execution_count": null,
      "outputs": []
    }
  ]
}